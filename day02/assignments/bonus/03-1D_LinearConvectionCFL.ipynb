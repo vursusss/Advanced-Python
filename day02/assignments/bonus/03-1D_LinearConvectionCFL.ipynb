{
 "cells": [
  {
   "cell_type": "markdown",
   "metadata": {},
   "source": [
    "## Imports"
   ]
  },
  {
   "cell_type": "code",
   "execution_count": 6,
   "metadata": {},
   "outputs": [],
   "source": [
    "import numpy as np\n",
    "import matplotlib.pyplot as plt"
   ]
  },
  {
   "cell_type": "markdown",
   "metadata": {},
   "source": [
    "## Linear convection without CFL"
   ]
  },
  {
   "cell_type": "code",
   "execution_count": 15,
   "metadata": {},
   "outputs": [],
   "source": [
    "def linearconv_withoutCFL(u, nx, nt, dx):\n",
    "    dt = .015  \n",
    "    c = 1.\n",
    "    \n",
    "    CFL = dt*c/dx\n",
    "    \n",
    "    for n in range(nt):  #iterate through time\n",
    "        un = u.copy() ##copy the existing values of u into un\n",
    "        for i in range(1, nx):\n",
    "            u[i] = un[i] - c * dt / dx * (un[i] - un[i-1])\n",
    "        \n",
    "    return 0"
   ]
  },
  {
   "cell_type": "markdown",
   "metadata": {},
   "source": [
    "## Linear convection with CFL"
   ]
  },
  {
   "cell_type": "code",
   "execution_count": 12,
   "metadata": {},
   "outputs": [],
   "source": [
    "def linearconv_withCFL(u, nx, nt, dx):\n",
    "    c = 1.\n",
    "    CFL = .8\n",
    "    dt = CFL*dx/np.fabs(c) \n",
    "    \n",
    "    for n in range(nt):  #iterate through time\n",
    "        un = u.copy() ##copy the existing values of u into un\n",
    "        for i in range(1, nx):\n",
    "            u[i] = un[i] - c * dt / dx * (un[i] - un[i-1])\n",
    "        \n",
    "    return 0"
   ]
  },
  {
   "cell_type": "markdown",
   "metadata": {},
   "source": [
    "## Inputs"
   ]
  },
  {
   "cell_type": "code",
   "execution_count": 21,
   "metadata": {},
   "outputs": [],
   "source": [
    "nx = 501\n",
    "dx = 2 / (nx - 1)\n",
    "nt = 10   \n",
    "\n",
    "grid = np.linspace(0,2,nx) \n",
    "u0 = np.ones(nx)      \n",
    "u0[int(.5/dx):int(1 / dx + 1)] = 2  "
   ]
  },
  {
   "cell_type": "markdown",
   "metadata": {},
   "source": [
    "## Call Funtions"
   ]
  },
  {
   "cell_type": "markdown",
   "metadata": {},
   "source": [
    "### Function without CFL"
   ]
  },
  {
   "cell_type": "code",
   "execution_count": 22,
   "metadata": {},
   "outputs": [
    {
     "name": "stdout",
     "output_type": "stream",
     "text": [
      "3.75\n"
     ]
    },
    {
     "data": {
      "text/plain": [
       "Text(0.5, 1.0, '1D Linear Convection')"
      ]
     },
     "execution_count": 22,
     "metadata": {},
     "output_type": "execute_result"
    },
    {
     "data": {
      "image/png": "[encoded data removed]",
      "text/plain": [
       "<Figure size 432x288 with 1 Axes>"
      ]
     },
     "metadata": {
      "needs_background": "light"
     },
     "output_type": "display_data"
    }
   ],
   "source": [
    "u = u0.copy()\n",
    "linearconv_withoutCFL(u, nx, nt, dx)\n",
    "\n",
    "plt.plot(grid,u0);\n",
    "plt.plot(grid,u);\n",
    "plt.ylim([1.,2.2])\n",
    "plt.xlabel('X')\n",
    "plt.ylabel('Velocity')    \n",
    "plt.title('1D Linear Convection')  "
   ]
  },
  {
   "cell_type": "markdown",
   "metadata": {},
   "source": [
    "### Function with CFL"
   ]
  },
  {
   "cell_type": "code",
   "execution_count": 23,
   "metadata": {},
   "outputs": [
    {
     "data": {
      "text/plain": [
       "Text(0.5, 1.0, '1D Linear Convection')"
      ]
     },
     "execution_count": 23,
     "metadata": {},
     "output_type": "execute_result"
    },
    {
     "data": {
      "image/png": "[encoded data removed]",
      "text/plain": [
       "<Figure size 432x288 with 1 Axes>"
      ]
     },
     "metadata": {
      "needs_background": "light"
     },
     "output_type": "display_data"
    }
   ],
   "source": [
    "u = u0.copy()\n",
    "linearconv_withCFL(u, nx, nt, dx)\n",
    "\n",
    "plt.plot(grid,u0);\n",
    "plt.plot(grid,u);\n",
    "plt.ylim([1.,2.2])\n",
    "plt.xlabel('X')\n",
    "plt.ylabel('Velocity')    \n",
    "plt.title('1D Linear Convection') "
   ]
  }
 ],
 "metadata": {
  "hide_input": false,
  "kernelspec": {
   "display_name": "Python 3",
   "language": "python",
   "name": "python3"
  },
  "language_info": {
   "codemirror_mode": {
    "name": "ipython",
    "version": 3
   },
   "file_extension": ".py",
   "mimetype": "text/x-python",
   "name": "python",
   "nbconvert_exporter": "python",
   "pygments_lexer": "ipython3",
   "version": "3.8.5"
  }
 },
 "nbformat": 4,
 "nbformat_minor": 2
}
