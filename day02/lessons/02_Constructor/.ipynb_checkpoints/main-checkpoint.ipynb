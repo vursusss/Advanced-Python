{
 "cells": [
  {
   "cell_type": "code",
   "execution_count": 18,
   "id": "126967d8",
   "metadata": {},
   "outputs": [
    {
     "name": "stdout",
     "output_type": "stream",
     "text": [
      "0\n",
      "3000\n"
     ]
    },
    {
     "data": {
      "text/plain": [
       "'\\n        cette méthode ...\\n        '"
      ]
     },
     "execution_count": 18,
     "metadata": {},
     "output_type": "execute_result"
    }
   ],
   "source": [
    "class Item:\n",
    "    \"\"\"\n",
    "    cette méthode ...\n",
    "    \"\"\"\n",
    "    def __init__(self, name: str, price: float, quantity=0, tr=10):\n",
    "        # Run validations to the received arguments\n",
    "        assert price >= 0, f\"Price {price} is not greater than or equal to zero!\"\n",
    "        assert quantity >= 0, f\"Quantity {quantity} is not greater or equal to zero!\"\n",
    "\n",
    "        # Assign to self object\n",
    "        self.name = name\n",
    "        self.price = price\n",
    "        self.quantity = quantity\n",
    "\n",
    "    def calculate_total_price(self):\n",
    "        \"\"\"\n",
    "        cette méthode ...\n",
    "        \"\"\"\n",
    "        return self.price * self.quantity\n",
    "\n",
    "item1 = Item(\"Phone\", 100, tr=1)\n",
    "item2 = Item(\"Laptop\", 1000, 3)\n",
    "\n",
    "print(item1.calculate_total_price())\n",
    "print(item2.calculate_total_price())\n",
    "\n",
    "item2.calculate_total_price.__doc__"
   ]
  },
  {
   "cell_type": "code",
   "execution_count": 19,
   "id": "0beedcf8",
   "metadata": {},
   "outputs": [
    {
     "data": {
      "text/plain": [
       "'Return self+value.'"
      ]
     },
     "execution_count": 19,
     "metadata": {},
     "output_type": "execute_result"
    }
   ],
   "source": [
    "a = 10\n",
    "a.__add__.__doc__"
   ]
  }
 ],
 "metadata": {
  "kernelspec": {
   "display_name": "Python 3",
   "language": "python",
   "name": "python3"
  },
  "language_info": {
   "codemirror_mode": {
    "name": "ipython",
    "version": 3
   },
   "file_extension": ".py",
   "mimetype": "text/x-python",
   "name": "python",
   "nbconvert_exporter": "python",
   "pygments_lexer": "ipython3",
   "version": "3.8.10"
  }
 },
 "nbformat": 4,
 "nbformat_minor": 5
}
