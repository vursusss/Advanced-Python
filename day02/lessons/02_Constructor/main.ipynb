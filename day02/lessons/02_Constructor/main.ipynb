{
 "cells": [
  {
   "cell_type": "code",
   "execution_count": 22,
   "id": "db25f849",
   "metadata": {},
   "outputs": [
    {
     "name": "stdout",
     "output_type": "stream",
     "text": [
      "0\n",
      "3000\n"
     ]
    },
    {
     "data": {
      "text/plain": [
       "'\\n    cette classe ...\\n    '"
      ]
     },
     "execution_count": 22,
     "metadata": {},
     "output_type": "execute_result"
    }
   ],
   "source": [
    "class Item:\n",
    "    \"\"\"\n",
    "    cette classe ...\n",
    "    \"\"\"\n",
    "    def __init__(self, name: str, price: float, quantity=0, tr=10):\n",
    "        # Run validations to the received arguments\n",
    "        assert price >= 0, f\"Price {price} is not greater than or equal to zero!\"\n",
    "        assert quantity >= 0, f\"Quantity {quantity} is not greater or equal to zero!\"\n",
    "\n",
    "        # Assign to self object\n",
    "        self.name = name\n",
    "        self.price = price\n",
    "        self.quantity = quantity\n",
    "\n",
    "    def calculate_total_price(self):\n",
    "        \"\"\"\n",
    "        cette méthode ...\n",
    "        \"\"\"\n",
    "        return self.price * self.quantity\n",
    "\n",
    "item1 = Item(\"Phone\", 100, tr=1)\n",
    "item2 = Item(\"Laptop\", 1000, 3)\n",
    "\n",
    "print(item1.calculate_total_price())\n",
    "print(item2.calculate_total_price())\n",
    "\n",
    "item1.__doc__"
   ]
  },
  {
   "cell_type": "code",
   "execution_count": 23,
   "id": "530595d0",
   "metadata": {},
   "outputs": [
    {
     "data": {
      "text/plain": [
       "\"int([x]) -> integer\\nint(x, base=10) -> integer\\n\\nConvert a number or string to an integer, or return 0 if no arguments\\nare given.  If x is a number, return x.__int__().  For floating point\\nnumbers, this truncates towards zero.\\n\\nIf x is not a number or if base is given, then x must be a string,\\nbytes, or bytearray instance representing an integer literal in the\\ngiven base.  The literal can be preceded by '+' or '-' and be surrounded\\nby whitespace.  The base defaults to 10.  Valid bases are 0 and 2-36.\\nBase 0 means to interpret the base from the string as an integer literal.\\n>>> int('0b100', base=0)\\n4\""
      ]
     },
     "execution_count": 23,
     "metadata": {},
     "output_type": "execute_result"
    }
   ],
   "source": [
    "a = 10\n",
    "a.__doc__"
   ]
  }
 ],
 "metadata": {
  "kernelspec": {
   "display_name": "Python 3",
   "language": "python",
   "name": "python3"
  },
  "language_info": {
   "codemirror_mode": {
    "name": "ipython",
    "version": 3
   },
   "file_extension": ".py",
   "mimetype": "text/x-python",
   "name": "python",
   "nbconvert_exporter": "python",
   "pygments_lexer": "ipython3",
   "version": "3.8.10"
  }
 },
 "nbformat": 4,
 "nbformat_minor": 5
}
