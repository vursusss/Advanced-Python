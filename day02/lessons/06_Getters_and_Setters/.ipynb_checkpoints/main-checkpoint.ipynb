{
 "cells": [
  {
   "cell_type": "code",
   "execution_count": 60,
   "id": "0ff42396",
   "metadata": {},
   "outputs": [
    {
     "ename": "AttributeError",
     "evalue": "type object 'Item' has no attribute '_Item__name'",
     "output_type": "error",
     "traceback": [
      "\u001b[0;31m---------------------------------------------------------------------------\u001b[0m",
      "\u001b[0;31mAttributeError\u001b[0m                            Traceback (most recent call last)",
      "\u001b[0;32m<ipython-input-60-edf9ae75f20d>\u001b[0m in \u001b[0;36m<module>\u001b[0;34m\u001b[0m\n\u001b[1;32m      1\u001b[0m \u001b[0;32mimport\u001b[0m \u001b[0mcsv\u001b[0m\u001b[0;34m\u001b[0m\u001b[0;34m\u001b[0m\u001b[0m\n\u001b[1;32m      2\u001b[0m \u001b[0;34m\u001b[0m\u001b[0m\n\u001b[0;32m----> 3\u001b[0;31m \u001b[0;32mclass\u001b[0m \u001b[0mItem\u001b[0m\u001b[0;34m:\u001b[0m\u001b[0;34m\u001b[0m\u001b[0;34m\u001b[0m\u001b[0m\n\u001b[0m\u001b[1;32m      4\u001b[0m     \u001b[0mpay_rate\u001b[0m \u001b[0;34m=\u001b[0m \u001b[0;36m0.8\u001b[0m \u001b[0;31m# The pay rate after 20% discount\u001b[0m\u001b[0;34m\u001b[0m\u001b[0;34m\u001b[0m\u001b[0m\n\u001b[1;32m      5\u001b[0m     \u001b[0mall\u001b[0m \u001b[0;34m=\u001b[0m \u001b[0;34m[\u001b[0m\u001b[0;34m]\u001b[0m\u001b[0;34m\u001b[0m\u001b[0;34m\u001b[0m\u001b[0m\n",
      "\u001b[0;32m<ipython-input-60-edf9ae75f20d>\u001b[0m in \u001b[0;36mItem\u001b[0;34m()\u001b[0m\n\u001b[1;32m     27\u001b[0m         \u001b[0;32mreturn\u001b[0m \u001b[0mself\u001b[0m\u001b[0;34m.\u001b[0m\u001b[0m__price\u001b[0m\u001b[0;34m\u001b[0m\u001b[0;34m\u001b[0m\u001b[0m\n\u001b[1;32m     28\u001b[0m \u001b[0;34m\u001b[0m\u001b[0m\n\u001b[0;32m---> 29\u001b[0;31m     \u001b[0;34m@\u001b[0m\u001b[0mItem\u001b[0m\u001b[0;34m.\u001b[0m\u001b[0m__name\u001b[0m\u001b[0;34m.\u001b[0m\u001b[0msetter\u001b[0m\u001b[0;34m\u001b[0m\u001b[0;34m\u001b[0m\u001b[0m\n\u001b[0m\u001b[1;32m     30\u001b[0m     \u001b[0;32mdef\u001b[0m \u001b[0mname\u001b[0m\u001b[0;34m(\u001b[0m\u001b[0mself\u001b[0m\u001b[0;34m,\u001b[0m \u001b[0mvalue\u001b[0m\u001b[0;34m)\u001b[0m\u001b[0;34m:\u001b[0m\u001b[0;34m\u001b[0m\u001b[0;34m\u001b[0m\u001b[0m\n\u001b[1;32m     31\u001b[0m         \u001b[0;32mif\u001b[0m \u001b[0mlen\u001b[0m\u001b[0;34m(\u001b[0m\u001b[0mvalue\u001b[0m\u001b[0;34m)\u001b[0m \u001b[0;34m>\u001b[0m \u001b[0;36m10\u001b[0m\u001b[0;34m:\u001b[0m\u001b[0;34m\u001b[0m\u001b[0;34m\u001b[0m\u001b[0m\n",
      "\u001b[0;31mAttributeError\u001b[0m: type object 'Item' has no attribute '_Item__name'"
     ]
    }
   ],
   "source": [
    "import csv\n",
    "\n",
    "class Item:\n",
    "    pay_rate = 0.8 # The pay rate after 20% discount\n",
    "    all = []\n",
    "    def __init__(self, name: str, price: float, quantity=0):\n",
    "        # Run validations to the received arguments\n",
    "        assert price >= 0, f\"Price {price} is not greater than or equal to zero!\"\n",
    "        assert quantity >= 0, f\"Quantity {quantity} is not greater or equal to zero!\"\n",
    "\n",
    "        # Assign to self object\n",
    "        self.__name = name\n",
    "        self.__price = price\n",
    "        self.quantity = quantity\n",
    "\n",
    "        # Actions to execute\n",
    "        Item.all.append(self)\n",
    "\n",
    "    @property\n",
    "    # Property Decorator = Read-Only Attribute\n",
    "    def name(self):\n",
    "        return self.__name\n",
    "    \n",
    "    @property\n",
    "    # Property Decorator = Read-Only Attribute\n",
    "    def price(self):\n",
    "        return self.__price\n",
    "\n",
    "    @name.setter\n",
    "    def name(self, value):\n",
    "        if len(value) > 10:\n",
    "            raise Exception(\"The name is too long!\")\n",
    "        else:\n",
    "            self.__name = value\n",
    "            \n",
    "    @price.setter\n",
    "    def price(self, value):\n",
    "        self.__price = value\n",
    "\n",
    "\n",
    "    def calculate_total_price(self):\n",
    "        return self.price * self.quantity\n",
    "\n",
    "    def apply_discount(self):\n",
    "        self.price = self.price * self.pay_rate\n",
    "\n",
    "    @classmethod\n",
    "    def instantiate_from_csv(cls):\n",
    "        with open('items.csv', 'r') as f:\n",
    "            reader = csv.DictReader(f)\n",
    "            items = list(reader)\n",
    "\n",
    "        for item in items:\n",
    "            Item(\n",
    "                name=item.get('name'),\n",
    "                price=float(item.get('price')),\n",
    "                quantity=int(item.get('quantity')),\n",
    "            )\n",
    "\n",
    "    @staticmethod\n",
    "    def is_integer(num):\n",
    "        # We will count out the floats that are point zero\n",
    "        # For i.e: 5.0, 10.0\n",
    "        if isinstance(num, float):\n",
    "            # Count out the floats that are point zero\n",
    "            return num.is_integer()\n",
    "        elif isinstance(num, int):\n",
    "            return True\n",
    "        else:\n",
    "            return False\n",
    "\n",
    "    #def __repr__(self):\n",
    "    #    return f\"{self.__class__.__name__}('{self.name}', {self.price}, {self.quantity})\""
   ]
  },
  {
   "cell_type": "code",
   "execution_count": 53,
   "id": "0fc9144e",
   "metadata": {},
   "outputs": [
    {
     "data": {
      "text/plain": [
       "'name'"
      ]
     },
     "execution_count": 53,
     "metadata": {},
     "output_type": "execute_result"
    }
   ],
   "source": [
    "item1 = Item('name', 100)\n",
    "item1.name"
   ]
  },
  {
   "cell_type": "code",
   "execution_count": 2,
   "id": "b8e98046",
   "metadata": {},
   "outputs": [],
   "source": [
    "class Phone(Item):\n",
    "    def __init__(self, name: str, price: float, quantity=0, broken_phones=0):\n",
    "        # Call to super function to have access to all attributes / methods\n",
    "        super().__init__(\n",
    "            name, price, quantity\n",
    "        )\n",
    "\n",
    "        # Run validations to the received arguments\n",
    "        assert broken_phones >= 0, f\"Broken Phones {broken_phones} is not greater or equal to zero!\"\n",
    "\n",
    "        # Assign to self object\n",
    "        self.broken_phones = broken_phones"
   ]
  },
  {
   "cell_type": "code",
   "execution_count": 54,
   "id": "3d8f48ed",
   "metadata": {},
   "outputs": [
    {
     "name": "stdout",
     "output_type": "stream",
     "text": [
      "OtherItem\n"
     ]
    }
   ],
   "source": [
    "item1 = Item(\"MyItem\", 750)\n",
    "\n",
    "# Setting an Attribute\n",
    "item1.name = \"OtherItem\"\n",
    "\n",
    "# Getting an Attribute\n",
    "print(item1.name)\n",
    "\n",
    "item1.price = 10"
   ]
  },
  {
   "cell_type": "code",
   "execution_count": 34,
   "id": "f6b97044",
   "metadata": {},
   "outputs": [
    {
     "data": {
      "text/plain": [
       "'toto'"
      ]
     },
     "execution_count": 34,
     "metadata": {},
     "output_type": "execute_result"
    }
   ],
   "source": [
    "phone1 = Phone(\"MyItem\", 750)\n",
    "phone1.name = \"toto\"\n",
    "\n",
    "phone1.name"
   ]
  },
  {
   "cell_type": "code",
   "execution_count": null,
   "id": "a261f334",
   "metadata": {},
   "outputs": [],
   "source": []
  }
 ],
 "metadata": {
  "kernelspec": {
   "display_name": "Python 3",
   "language": "python",
   "name": "python3"
  },
  "language_info": {
   "codemirror_mode": {
    "name": "ipython",
    "version": 3
   },
   "file_extension": ".py",
   "mimetype": "text/x-python",
   "name": "python",
   "nbconvert_exporter": "python",
   "pygments_lexer": "ipython3",
   "version": "3.8.10"
  }
 },
 "nbformat": 4,
 "nbformat_minor": 5
}
