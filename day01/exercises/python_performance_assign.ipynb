{
 "cells": [
  {
   "cell_type": "markdown",
   "id": "9e8892ba",
   "metadata": {},
   "source": [
    "<h1 align=\"center\">Python performance exercises</h1>"
   ]
  },
  {
   "cell_type": "markdown",
   "id": "282983fc",
   "metadata": {},
   "source": [
    "## Python best practices exercises"
   ]
  },
  {
   "cell_type": "markdown",
   "id": "5efcd4d3",
   "metadata": {},
   "source": [
    "### Exercise 1\n",
    "\n",
    "considering the following function for concatenating list strings with delimiter."
   ]
  },
  {
   "cell_type": "code",
   "execution_count": 39,
   "id": "8d029815",
   "metadata": {},
   "outputs": [],
   "source": [
    "def ft_concatenate(l_strings, d):\n",
    "    \"\"\"concatenate list of strings into one string separated by delimiter\"\"\"\n",
    "    res = l_strings[0]\n",
    "    for e in l_strings[1:]:\n",
    "        res = res + d + e\n",
    "    return res"
   ]
  },
  {
   "cell_type": "markdown",
   "id": "18ae5106",
   "metadata": {},
   "source": [
    "- profile the function and identify the bottlenecks.\n",
    "- improve speed up of the function\n",
    "*Hint: you may need to look to the string functions in python documentation*"
   ]
  },
  {
   "cell_type": "code",
   "execution_count": 43,
   "id": "024f9b98",
   "metadata": {},
   "outputs": [
    {
     "name": "stdout",
     "output_type": "stream",
     "text": [
      "12.1 ns ± 0.0993 ns per loop (mean ± std. dev. of 7 runs, 100,000,000 loops each)\n"
     ]
    }
   ],
   "source": [
    "import timeit\n",
    "%timeit ft_concatenate"
   ]
  },
  {
   "cell_type": "code",
   "execution_count": 40,
   "id": "5473c03a",
   "metadata": {},
   "outputs": [
    {
     "name": "stdout",
     "output_type": "stream",
     "text": [
      "The line_profiler extension is already loaded. To reload it, use:\n",
      "  %reload_ext line_profiler\n"
     ]
    }
   ],
   "source": [
    "%load_ext line_profiler\n",
    "chaine = [\"nom\",\"prenom\",\"age\"]\n",
    "d = ':'\n",
    "%lprun -f ft_concatenate ft_concatenate(chaine,d)"
   ]
  },
  {
   "cell_type": "code",
   "execution_count": 46,
   "id": "a205f150",
   "metadata": {},
   "outputs": [],
   "source": [
    "def ft_concatenate2(l_strings, d):\n",
    "    return d.join(l_strings)"
   ]
  },
  {
   "cell_type": "code",
   "execution_count": 47,
   "id": "07bdcc0f",
   "metadata": {},
   "outputs": [
    {
     "name": "stdout",
     "output_type": "stream",
     "text": [
      "11.6 ns ± 0.153 ns per loop (mean ± std. dev. of 7 runs, 100,000,000 loops each)\n"
     ]
    }
   ],
   "source": [
    "%timeit ft_concatenate2"
   ]
  },
  {
   "cell_type": "code",
   "execution_count": 48,
   "id": "1518708a",
   "metadata": {},
   "outputs": [
    {
     "name": "stdout",
     "output_type": "stream",
     "text": [
      "The line_profiler extension is already loaded. To reload it, use:\n",
      "  %reload_ext line_profiler\n"
     ]
    }
   ],
   "source": [
    "%load_ext line_profiler\n",
    "chaine = [\"nom\",\"prenom\",\"age\"]\n",
    "d = ':'\n",
    "%lprun -f ft_concatenate2 ft_concatenate2(chaine,d)"
   ]
  },
  {
   "cell_type": "markdown",
   "id": "554e4d1d",
   "metadata": {},
   "source": [
    "### Exercise 2\n",
    "\n",
    "In this exercise you will solve the following problem using two methods bruteforce method, and fast method.\n",
    "\n",
    "**Problem:** You are given a list of n integers, and your task is to calculate the number of distinct values in the list.\n",
    "\n",
    "**Example**\n",
    "- Input:\n",
    "5\n",
    "2 3 2 2 3\n",
    "\n",
    "- Output:\n",
    "3\n",
    "\n",
    "**Implement the following methods:**\n",
    "\n",
    "1. **bruteforce method:** create an empty list and start adding items for the given list without adding the previous item add, at the end the result list will contain unique values, print lenght of the list and you are done. \n",
    "2. **fast method** think of using Set data structure.\n",
    "\n",
    "- time the two methods, what do you think?"
   ]
  },
  {
   "cell_type": "code",
   "execution_count": 52,
   "id": "f59fffb9",
   "metadata": {},
   "outputs": [
    {
     "data": {
      "text/plain": [
       "3"
      ]
     },
     "execution_count": 52,
     "metadata": {},
     "output_type": "execute_result"
    }
   ],
   "source": [
    "# bruteforce method\n",
    "def count_distinct_bruteforce(nums):\n",
    "    distinct_values = []\n",
    "    \n",
    "    for num in nums:\n",
    "        if num not in distinct_values:\n",
    "            distinct_values.append(num)\n",
    "    return len(distinct_values)\n",
    "\n"
   ]
  },
  {
   "cell_type": "code",
   "execution_count": 53,
   "id": "4525cb5f",
   "metadata": {},
   "outputs": [],
   "source": [
    "# fast method\n",
    "def count_distinct_fast(nums):\n",
    "    distinct_values = set(nums)\n",
    "    return len(distinct_values)"
   ]
  },
  {
   "cell_type": "code",
   "execution_count": 59,
   "id": "68b41519",
   "metadata": {},
   "outputs": [
    {
     "name": "stdout",
     "output_type": "stream",
     "text": [
      "336 ns ± 6.93 ns per loop (mean ± std. dev. of 7 runs, 1,000,000 loops each)\n"
     ]
    }
   ],
   "source": [
    "# Create a random list of numbers for testing\n",
    "nums = [5 ,2 ,3, 2, 2, 3]\n",
    "\n",
    "# time the two methods\n",
    "%timeit count_distinct_bruteforce(nums)"
   ]
  },
  {
   "cell_type": "code",
   "execution_count": 58,
   "id": "29416928",
   "metadata": {},
   "outputs": [
    {
     "name": "stdout",
     "output_type": "stream",
     "text": [
      "190 ns ± 2.07 ns per loop (mean ± std. dev. of 7 runs, 10,000,000 loops each)\n"
     ]
    }
   ],
   "source": [
    "%timeit count_distinct_fast(nums)"
   ]
  },
  {
   "cell_type": "markdown",
   "id": "2105bddb",
   "metadata": {},
   "source": [
    "## Cython exercises"
   ]
  },
  {
   "cell_type": "markdown",
   "id": "ace90d17",
   "metadata": {},
   "source": [
    "1. load the cython extension."
   ]
  },
  {
   "cell_type": "code",
   "execution_count": 64,
   "id": "d380d0a3",
   "metadata": {},
   "outputs": [
    {
     "name": "stdout",
     "output_type": "stream",
     "text": [
      "The cython extension is already loaded. To reload it, use:\n",
      "  %reload_ext cython\n"
     ]
    }
   ],
   "source": [
    "%load_ext cython"
   ]
  },
  {
   "cell_type": "markdown",
   "id": "e88067aa",
   "metadata": {},
   "source": [
    "2. Considering the following polynomial function:"
   ]
  },
  {
   "cell_type": "code",
   "execution_count": 68,
   "id": "134d0004",
   "metadata": {},
   "outputs": [],
   "source": [
    "def poly(a,b):\n",
    "    return 10.5 * a + 3 * (b**2)"
   ]
  },
  {
   "cell_type": "markdown",
   "id": "b42c590f",
   "metadata": {},
   "source": [
    "- Create an equivalent Cython function of `poly` with name `poly_cy`."
   ]
  },
  {
   "cell_type": "code",
   "execution_count": 66,
   "id": "5df4d3c2",
   "metadata": {},
   "outputs": [
    {
     "ename": "DistutilsPlatformError",
     "evalue": "Microsoft Visual C++ 14.0 or greater is required. Get it with \"Microsoft C++ Build Tools\": https://visualstudio.microsoft.com/visual-cpp-build-tools/",
     "output_type": "error",
     "traceback": [
      "\u001b[1;31m---------------------------------------------------------------------------\u001b[0m",
      "\u001b[1;31mDistutilsPlatformError\u001b[0m                    Traceback (most recent call last)",
      "Cell \u001b[1;32mIn[66], line 1\u001b[0m\n\u001b[1;32m----> 1\u001b[0m get_ipython()\u001b[38;5;241m.\u001b[39mrun_cell_magic(\u001b[38;5;124m'\u001b[39m\u001b[38;5;124mcython\u001b[39m\u001b[38;5;124m'\u001b[39m, \u001b[38;5;124m'\u001b[39m\u001b[38;5;124m-a\u001b[39m\u001b[38;5;124m'\u001b[39m, \u001b[38;5;124m'\u001b[39m\u001b[38;5;124mdef poly_cy(double a, double b):\u001b[39m\u001b[38;5;130;01m\\n\u001b[39;00m\u001b[38;5;124m    return 10.5 * a + 3 * (b**2)\u001b[39m\u001b[38;5;130;01m\\n\u001b[39;00m\u001b[38;5;124m'\u001b[39m)\n",
      "File \u001b[1;32mC:\\ProgramData\\anaconda3\\Lib\\site-packages\\IPython\\core\\interactiveshell.py:2475\u001b[0m, in \u001b[0;36mInteractiveShell.run_cell_magic\u001b[1;34m(self, magic_name, line, cell)\u001b[0m\n\u001b[0;32m   2473\u001b[0m \u001b[38;5;28;01mwith\u001b[39;00m \u001b[38;5;28mself\u001b[39m\u001b[38;5;241m.\u001b[39mbuiltin_trap:\n\u001b[0;32m   2474\u001b[0m     args \u001b[38;5;241m=\u001b[39m (magic_arg_s, cell)\n\u001b[1;32m-> 2475\u001b[0m     result \u001b[38;5;241m=\u001b[39m fn(\u001b[38;5;241m*\u001b[39margs, \u001b[38;5;241m*\u001b[39m\u001b[38;5;241m*\u001b[39mkwargs)\n\u001b[0;32m   2477\u001b[0m \u001b[38;5;66;03m# The code below prevents the output from being displayed\u001b[39;00m\n\u001b[0;32m   2478\u001b[0m \u001b[38;5;66;03m# when using magics with decodator @output_can_be_silenced\u001b[39;00m\n\u001b[0;32m   2479\u001b[0m \u001b[38;5;66;03m# when the last Python token in the expression is a ';'.\u001b[39;00m\n\u001b[0;32m   2480\u001b[0m \u001b[38;5;28;01mif\u001b[39;00m \u001b[38;5;28mgetattr\u001b[39m(fn, magic\u001b[38;5;241m.\u001b[39mMAGIC_OUTPUT_CAN_BE_SILENCED, \u001b[38;5;28;01mFalse\u001b[39;00m):\n",
      "File \u001b[1;32m~\\AppData\\Roaming\\Python\\Python311\\site-packages\\Cython\\Build\\IpythonMagic.py:349\u001b[0m, in \u001b[0;36mCythonMagics.cython\u001b[1;34m(self, line, cell)\u001b[0m\n\u001b[0;32m    347\u001b[0m     \u001b[38;5;28;01mwith\u001b[39;00m captured_fd(\u001b[38;5;241m1\u001b[39m) \u001b[38;5;28;01mas\u001b[39;00m get_stdout:\n\u001b[0;32m    348\u001b[0m         \u001b[38;5;28;01mwith\u001b[39;00m captured_fd(\u001b[38;5;241m2\u001b[39m) \u001b[38;5;28;01mas\u001b[39;00m get_stderr:\n\u001b[1;32m--> 349\u001b[0m             \u001b[38;5;28mself\u001b[39m\u001b[38;5;241m.\u001b[39m_build_extension(\n\u001b[0;32m    350\u001b[0m                 extension, lib_dir, pgo_step_name\u001b[38;5;241m=\u001b[39m\u001b[38;5;124m'\u001b[39m\u001b[38;5;124muse\u001b[39m\u001b[38;5;124m'\u001b[39m \u001b[38;5;28;01mif\u001b[39;00m args\u001b[38;5;241m.\u001b[39mpgo \u001b[38;5;28;01melse\u001b[39;00m \u001b[38;5;28;01mNone\u001b[39;00m, quiet\u001b[38;5;241m=\u001b[39margs\u001b[38;5;241m.\u001b[39mquiet)\n\u001b[0;32m    351\u001b[0m \u001b[38;5;28;01mexcept\u001b[39;00m (distutils\u001b[38;5;241m.\u001b[39merrors\u001b[38;5;241m.\u001b[39mCompileError, distutils\u001b[38;5;241m.\u001b[39merrors\u001b[38;5;241m.\u001b[39mLinkError):\n\u001b[0;32m    352\u001b[0m     \u001b[38;5;66;03m# Build failed, print error message from compiler/linker\u001b[39;00m\n\u001b[0;32m    353\u001b[0m     print_compiler_output(get_stdout(), get_stderr(), sys\u001b[38;5;241m.\u001b[39mstderr)\n",
      "File \u001b[1;32m~\\AppData\\Roaming\\Python\\Python311\\site-packages\\Cython\\Build\\IpythonMagic.py:466\u001b[0m, in \u001b[0;36mCythonMagics._build_extension\u001b[1;34m(self, extension, lib_dir, temp_dir, pgo_step_name, quiet)\u001b[0m\n\u001b[0;32m    464\u001b[0m     \u001b[38;5;28;01mif\u001b[39;00m \u001b[38;5;129;01mnot\u001b[39;00m quiet:\n\u001b[0;32m    465\u001b[0m         old_threshold \u001b[38;5;241m=\u001b[39m distutils\u001b[38;5;241m.\u001b[39mlog\u001b[38;5;241m.\u001b[39mset_threshold(distutils\u001b[38;5;241m.\u001b[39mlog\u001b[38;5;241m.\u001b[39mDEBUG)\n\u001b[1;32m--> 466\u001b[0m     build_extension\u001b[38;5;241m.\u001b[39mrun()\n\u001b[0;32m    467\u001b[0m \u001b[38;5;28;01mfinally\u001b[39;00m:\n\u001b[0;32m    468\u001b[0m     \u001b[38;5;28;01mif\u001b[39;00m \u001b[38;5;129;01mnot\u001b[39;00m quiet \u001b[38;5;129;01mand\u001b[39;00m old_threshold \u001b[38;5;129;01mis\u001b[39;00m \u001b[38;5;129;01mnot\u001b[39;00m \u001b[38;5;28;01mNone\u001b[39;00m:\n",
      "File \u001b[1;32mC:\\ProgramData\\anaconda3\\Lib\\site-packages\\setuptools\\_distutils\\command\\build_ext.py:345\u001b[0m, in \u001b[0;36mbuild_ext.run\u001b[1;34m(self)\u001b[0m\n\u001b[0;32m    342\u001b[0m     \u001b[38;5;28mself\u001b[39m\u001b[38;5;241m.\u001b[39mcompiler\u001b[38;5;241m.\u001b[39mset_link_objects(\u001b[38;5;28mself\u001b[39m\u001b[38;5;241m.\u001b[39mlink_objects)\n\u001b[0;32m    344\u001b[0m \u001b[38;5;66;03m# Now actually compile and link everything.\u001b[39;00m\n\u001b[1;32m--> 345\u001b[0m \u001b[38;5;28mself\u001b[39m\u001b[38;5;241m.\u001b[39mbuild_extensions()\n",
      "File \u001b[1;32mC:\\ProgramData\\anaconda3\\Lib\\site-packages\\setuptools\\_distutils\\command\\build_ext.py:467\u001b[0m, in \u001b[0;36mbuild_ext.build_extensions\u001b[1;34m(self)\u001b[0m\n\u001b[0;32m    465\u001b[0m     \u001b[38;5;28mself\u001b[39m\u001b[38;5;241m.\u001b[39m_build_extensions_parallel()\n\u001b[0;32m    466\u001b[0m \u001b[38;5;28;01melse\u001b[39;00m:\n\u001b[1;32m--> 467\u001b[0m     \u001b[38;5;28mself\u001b[39m\u001b[38;5;241m.\u001b[39m_build_extensions_serial()\n",
      "File \u001b[1;32mC:\\ProgramData\\anaconda3\\Lib\\site-packages\\setuptools\\_distutils\\command\\build_ext.py:493\u001b[0m, in \u001b[0;36mbuild_ext._build_extensions_serial\u001b[1;34m(self)\u001b[0m\n\u001b[0;32m    491\u001b[0m \u001b[38;5;28;01mfor\u001b[39;00m ext \u001b[38;5;129;01min\u001b[39;00m \u001b[38;5;28mself\u001b[39m\u001b[38;5;241m.\u001b[39mextensions:\n\u001b[0;32m    492\u001b[0m     \u001b[38;5;28;01mwith\u001b[39;00m \u001b[38;5;28mself\u001b[39m\u001b[38;5;241m.\u001b[39m_filter_build_errors(ext):\n\u001b[1;32m--> 493\u001b[0m         \u001b[38;5;28mself\u001b[39m\u001b[38;5;241m.\u001b[39mbuild_extension(ext)\n",
      "File \u001b[1;32mC:\\ProgramData\\anaconda3\\Lib\\site-packages\\setuptools\\_distutils\\command\\build_ext.py:548\u001b[0m, in \u001b[0;36mbuild_ext.build_extension\u001b[1;34m(self, ext)\u001b[0m\n\u001b[0;32m    545\u001b[0m \u001b[38;5;28;01mfor\u001b[39;00m undef \u001b[38;5;129;01min\u001b[39;00m ext\u001b[38;5;241m.\u001b[39mundef_macros:\n\u001b[0;32m    546\u001b[0m     macros\u001b[38;5;241m.\u001b[39mappend((undef,))\n\u001b[1;32m--> 548\u001b[0m objects \u001b[38;5;241m=\u001b[39m \u001b[38;5;28mself\u001b[39m\u001b[38;5;241m.\u001b[39mcompiler\u001b[38;5;241m.\u001b[39mcompile(\n\u001b[0;32m    549\u001b[0m     sources,\n\u001b[0;32m    550\u001b[0m     output_dir\u001b[38;5;241m=\u001b[39m\u001b[38;5;28mself\u001b[39m\u001b[38;5;241m.\u001b[39mbuild_temp,\n\u001b[0;32m    551\u001b[0m     macros\u001b[38;5;241m=\u001b[39mmacros,\n\u001b[0;32m    552\u001b[0m     include_dirs\u001b[38;5;241m=\u001b[39mext\u001b[38;5;241m.\u001b[39minclude_dirs,\n\u001b[0;32m    553\u001b[0m     debug\u001b[38;5;241m=\u001b[39m\u001b[38;5;28mself\u001b[39m\u001b[38;5;241m.\u001b[39mdebug,\n\u001b[0;32m    554\u001b[0m     extra_postargs\u001b[38;5;241m=\u001b[39mextra_args,\n\u001b[0;32m    555\u001b[0m     depends\u001b[38;5;241m=\u001b[39mext\u001b[38;5;241m.\u001b[39mdepends,\n\u001b[0;32m    556\u001b[0m )\n\u001b[0;32m    558\u001b[0m \u001b[38;5;66;03m# XXX outdated variable, kept here in case third-part code\u001b[39;00m\n\u001b[0;32m    559\u001b[0m \u001b[38;5;66;03m# needs it.\u001b[39;00m\n\u001b[0;32m    560\u001b[0m \u001b[38;5;28mself\u001b[39m\u001b[38;5;241m.\u001b[39m_built_objects \u001b[38;5;241m=\u001b[39m objects[:]\n",
      "File \u001b[1;32mC:\\ProgramData\\anaconda3\\Lib\\site-packages\\setuptools\\_distutils\\_msvccompiler.py:343\u001b[0m, in \u001b[0;36mMSVCCompiler.compile\u001b[1;34m(self, sources, output_dir, macros, include_dirs, debug, extra_preargs, extra_postargs, depends)\u001b[0m\n\u001b[0;32m    331\u001b[0m \u001b[38;5;28;01mdef\u001b[39;00m \u001b[38;5;21mcompile\u001b[39m(  \u001b[38;5;66;03m# noqa: C901\u001b[39;00m\n\u001b[0;32m    332\u001b[0m     \u001b[38;5;28mself\u001b[39m,\n\u001b[0;32m    333\u001b[0m     sources,\n\u001b[1;32m   (...)\u001b[0m\n\u001b[0;32m    340\u001b[0m     depends\u001b[38;5;241m=\u001b[39m\u001b[38;5;28;01mNone\u001b[39;00m,\n\u001b[0;32m    341\u001b[0m ):\n\u001b[0;32m    342\u001b[0m     \u001b[38;5;28;01mif\u001b[39;00m \u001b[38;5;129;01mnot\u001b[39;00m \u001b[38;5;28mself\u001b[39m\u001b[38;5;241m.\u001b[39minitialized:\n\u001b[1;32m--> 343\u001b[0m         \u001b[38;5;28mself\u001b[39m\u001b[38;5;241m.\u001b[39minitialize()\n\u001b[0;32m    344\u001b[0m     compile_info \u001b[38;5;241m=\u001b[39m \u001b[38;5;28mself\u001b[39m\u001b[38;5;241m.\u001b[39m_setup_compile(\n\u001b[0;32m    345\u001b[0m         output_dir, macros, include_dirs, sources, depends, extra_postargs\n\u001b[0;32m    346\u001b[0m     )\n\u001b[0;32m    347\u001b[0m     macros, objects, extra_postargs, pp_opts, build \u001b[38;5;241m=\u001b[39m compile_info\n",
      "File \u001b[1;32mC:\\ProgramData\\anaconda3\\Lib\\site-packages\\setuptools\\_distutils\\_msvccompiler.py:253\u001b[0m, in \u001b[0;36mMSVCCompiler.initialize\u001b[1;34m(self, plat_name)\u001b[0m\n\u001b[0;32m    250\u001b[0m \u001b[38;5;66;03m# Get the vcvarsall.bat spec for the requested platform.\u001b[39;00m\n\u001b[0;32m    251\u001b[0m plat_spec \u001b[38;5;241m=\u001b[39m PLAT_TO_VCVARS[plat_name]\n\u001b[1;32m--> 253\u001b[0m vc_env \u001b[38;5;241m=\u001b[39m _get_vc_env(plat_spec)\n\u001b[0;32m    254\u001b[0m \u001b[38;5;28;01mif\u001b[39;00m \u001b[38;5;129;01mnot\u001b[39;00m vc_env:\n\u001b[0;32m    255\u001b[0m     \u001b[38;5;28;01mraise\u001b[39;00m DistutilsPlatformError(\n\u001b[0;32m    256\u001b[0m         \u001b[38;5;124m\"\u001b[39m\u001b[38;5;124mUnable to find a compatible \u001b[39m\u001b[38;5;124m\"\u001b[39m \u001b[38;5;124m\"\u001b[39m\u001b[38;5;124mVisual Studio installation.\u001b[39m\u001b[38;5;124m\"\u001b[39m\n\u001b[0;32m    257\u001b[0m     )\n",
      "File \u001b[1;32mC:\\ProgramData\\anaconda3\\Lib\\site-packages\\setuptools\\msvc.py:214\u001b[0m, in \u001b[0;36mmsvc14_get_vc_env\u001b[1;34m(plat_spec)\u001b[0m\n\u001b[0;32m    212\u001b[0m \u001b[38;5;66;03m# Always use backport from CPython 3.8\u001b[39;00m\n\u001b[0;32m    213\u001b[0m \u001b[38;5;28;01mtry\u001b[39;00m:\n\u001b[1;32m--> 214\u001b[0m     \u001b[38;5;28;01mreturn\u001b[39;00m _msvc14_get_vc_env(plat_spec)\n\u001b[0;32m    215\u001b[0m \u001b[38;5;28;01mexcept\u001b[39;00m distutils\u001b[38;5;241m.\u001b[39merrors\u001b[38;5;241m.\u001b[39mDistutilsPlatformError \u001b[38;5;28;01mas\u001b[39;00m exc:\n\u001b[0;32m    216\u001b[0m     _augment_exception(exc, \u001b[38;5;241m14.0\u001b[39m)\n",
      "File \u001b[1;32mC:\\ProgramData\\anaconda3\\Lib\\site-packages\\setuptools\\msvc.py:168\u001b[0m, in \u001b[0;36m_msvc14_get_vc_env\u001b[1;34m(plat_spec)\u001b[0m\n\u001b[0;32m    166\u001b[0m vcvarsall, vcruntime \u001b[38;5;241m=\u001b[39m _msvc14_find_vcvarsall(plat_spec)\n\u001b[0;32m    167\u001b[0m \u001b[38;5;28;01mif\u001b[39;00m \u001b[38;5;129;01mnot\u001b[39;00m vcvarsall:\n\u001b[1;32m--> 168\u001b[0m     \u001b[38;5;28;01mraise\u001b[39;00m distutils\u001b[38;5;241m.\u001b[39merrors\u001b[38;5;241m.\u001b[39mDistutilsPlatformError(\n\u001b[0;32m    169\u001b[0m         \u001b[38;5;124m\"\u001b[39m\u001b[38;5;124mUnable to find vcvarsall.bat\u001b[39m\u001b[38;5;124m\"\u001b[39m\n\u001b[0;32m    170\u001b[0m     )\n\u001b[0;32m    172\u001b[0m \u001b[38;5;28;01mtry\u001b[39;00m:\n\u001b[0;32m    173\u001b[0m     out \u001b[38;5;241m=\u001b[39m subprocess\u001b[38;5;241m.\u001b[39mcheck_output(\n\u001b[0;32m    174\u001b[0m         \u001b[38;5;124m'\u001b[39m\u001b[38;5;124mcmd /u /c \u001b[39m\u001b[38;5;124m\"\u001b[39m\u001b[38;5;132;01m{}\u001b[39;00m\u001b[38;5;124m\"\u001b[39m\u001b[38;5;124m \u001b[39m\u001b[38;5;132;01m{}\u001b[39;00m\u001b[38;5;124m && set\u001b[39m\u001b[38;5;124m'\u001b[39m\u001b[38;5;241m.\u001b[39mformat(vcvarsall, plat_spec),\n\u001b[0;32m    175\u001b[0m         stderr\u001b[38;5;241m=\u001b[39msubprocess\u001b[38;5;241m.\u001b[39mSTDOUT,\n\u001b[0;32m    176\u001b[0m     )\u001b[38;5;241m.\u001b[39mdecode(\u001b[38;5;124m'\u001b[39m\u001b[38;5;124mutf-16le\u001b[39m\u001b[38;5;124m'\u001b[39m, errors\u001b[38;5;241m=\u001b[39m\u001b[38;5;124m'\u001b[39m\u001b[38;5;124mreplace\u001b[39m\u001b[38;5;124m'\u001b[39m)\n",
      "\u001b[1;31mDistutilsPlatformError\u001b[0m: Microsoft Visual C++ 14.0 or greater is required. Get it with \"Microsoft C++ Build Tools\": https://visualstudio.microsoft.com/visual-cpp-build-tools/"
     ]
    }
   ],
   "source": [
    "%%cython -a\n",
    "def poly_cy(double a, double b):\n",
    "    return 10.5 * a + 3 * (b**2)"
   ]
  },
  {
   "cell_type": "markdown",
   "id": "20771017",
   "metadata": {},
   "source": [
    "3. time the performance of Python and Cython version of the function, what is the factor of speed up between the two verions."
   ]
  },
  {
   "cell_type": "code",
   "execution_count": 69,
   "id": "46373e13",
   "metadata": {},
   "outputs": [
    {
     "name": "stdout",
     "output_type": "stream",
     "text": [
      "12.1 ns ± 0.783 ns per loop (mean ± std. dev. of 7 runs, 100,000,000 loops each)\n"
     ]
    }
   ],
   "source": [
    "# write your code here\n",
    "%timeit poly"
   ]
  },
  {
   "cell_type": "code",
   "execution_count": null,
   "id": "8cc51adb",
   "metadata": {},
   "outputs": [],
   "source": [
    "%timeit poly_ci"
   ]
  },
  {
   "cell_type": "markdown",
   "id": "6c590ba1",
   "metadata": {},
   "source": [
    "4. Now let's work on another example using loop.\n",
    "    - rewrite the same function below fib that calculates the fibonacci sequence using cython, but now try to add type for the variables used inside it, add a prefix `_cy` to your new cython function."
   ]
  },
  {
   "cell_type": "code",
   "execution_count": 14,
   "id": "6e780a2a",
   "metadata": {},
   "outputs": [],
   "source": [
    "def fib(n):\n",
    "    a, b = 1, 1\n",
    "    for i in range(n):\n",
    "        a, b = a + b, a\n",
    "\n",
    "    return a"
   ]
  },
  {
   "cell_type": "code",
   "execution_count": 15,
   "id": "679ef27d",
   "metadata": {},
   "outputs": [],
   "source": [
    "# write your code here\n",
    "%%cython -a\n",
    "\n",
    "def fib_ci(int n):\n",
    "    cdef int a, b, i\n",
    "    a = 1\n",
    "    b = 1\n",
    "    for i in range(n):\n",
    "        a, b = a + b, a\n",
    "\n",
    "    return a"
   ]
  },
  {
   "cell_type": "markdown",
   "id": "50e3fdc9",
   "metadata": {},
   "source": [
    "- time the two function for fibonacci series, with n = 20, what is the factor of speed now, What do you think?"
   ]
  },
  {
   "cell_type": "code",
   "execution_count": 16,
   "id": "d90a83ed",
   "metadata": {},
   "outputs": [],
   "source": [
    "# write your code here\n",
    "%timeit fib_ci"
   ]
  },
  {
   "cell_type": "markdown",
   "id": "6597443f",
   "metadata": {},
   "source": [
    "5. Recursive functions are functions that call themselves during their execution. Another interesting property of the Fibonacci sequence is that it can be written as a recursive function. That’s because each item depends on the values of other items (namely item n-1 and item n-2)\n",
    "\n",
    "- Rewrite the fib function using recursion. Is it faster than the non-recursive version? Does Cythonizing it give even more of an advantage? "
   ]
  },
  {
   "cell_type": "code",
   "execution_count": 17,
   "id": "dc765886",
   "metadata": {},
   "outputs": [],
   "source": [
    "# write your code here\n",
    "def fib_rec(n):\n",
    "    if n <= 0:\n",
    "        return 0\n",
    "    elif n == 1:\n",
    "        return 1\n",
    "    else:\n",
    "        return fib_rec(n - 1) + fib_rec(n - 2)"
   ]
  },
  {
   "cell_type": "markdown",
   "id": "cdd229a8",
   "metadata": {},
   "source": [
    "### Exercise 2\n",
    "\n",
    "- Monte Carlo methods are a broad class of computational algorithms that rely on repeated random sampling to obtain numerical results. \n",
    "- One of the basic examples of getting started with the Monte Carlo algorithm is the estimation of Pi.\n",
    "\n",
    "**Estimation of Pi**\n",
    "\n",
    "- The idea is to simulate random (x, y) points in a 2-D plane with domain as a square of side 1 unit. \n",
    "- Imagine a circle inside the same domain with same diameter and inscribed into the square. \n",
    "- We then calculate the ratio of number points that lied inside the circle and total number of generated points. \n",
    "- Refer to the image below:\n",
    "\n",
    "![demo](../data/MonteCarloPlot.png)\n",
    "\n",
    "We know that area of the square is 1 unit sq while that of circle is $\\pi \\ast  (\\frac{1}{2})^{2} = \\frac{\\pi}{4}$. Now for a very large number of generated points,\n",
    "\n",
    "![demo](../data/MonteCarloCalc.png)\n",
    "\n",
    "\n",
    "## The Algorithm\n",
    "\n",
    "1. Initialize cile_points, square_points and interval to 0.\n",
    "2. Generate random point x.\n",
    "3. Generate random point y.\n",
    "4. Calculate d = x*x + y*y.\n",
    "5. If d <= 1, increment circle_points.\n",
    "6. Increment square_points.\n",
    "7. Increment interval.\n",
    "8. If increment < NO_OF_ITERATIONS, repeat from 2.\n",
    "9. Calculate pi = 4*(circle_points/square_points).\n",
    "10. Terminate."
   ]
  },
  {
   "cell_type": "markdown",
   "id": "71d23d4f",
   "metadata": {},
   "source": [
    "**Your mission:** time the function `monte_carlo_pi`, identify the bottlenecks and create a new version using cython functionality to speed up monte carlo simulation for PI, use 100,000 points and compare the speed up factor between python and cython, considering the following optimizations:\n",
    "- add type for variables used.\n",
    "- add type for the function\n",
    "- use c rand function instead of python rand function.\n",
    " \n",
    "*Hint: you can import function from C libraries using the following approach `from libc.<name of c library> cimport <library function name>`, replace the holders `<>` with the right identities for the current problem*"
   ]
  },
  {
   "cell_type": "code",
   "execution_count": 14,
   "id": "85006cfe",
   "metadata": {},
   "outputs": [
    {
     "name": "stdout",
     "output_type": "stream",
     "text": [
      "Pi après 100000 itérations : 3.15528\n",
      "14.4 ns ± 1.05 ns per loop (mean ± std. dev. of 7 runs, 100,000,000 loops each)\n"
     ]
    }
   ],
   "source": [
    "# Version simple\n",
    "import random\n",
    "\n",
    "\n",
    "\n",
    "def monte_carlo_pi(NO_OF_ITERATIONS):\n",
    "    circle_points = 0\n",
    "    square_points = 0\n",
    "    \n",
    "    for _ in range(NO_OF_ITERATIONS):\n",
    "        x = random.uniform(0, 1)\n",
    "        y = random.uniform(0, 1)\n",
    "        d = x**2 + y**2\n",
    "\n",
    "        if d <= 1:\n",
    "            circle_points += 1\n",
    "        square_points += 1\n",
    "    \n",
    "    pi_estimate = 4 * (circle_points / square_points)\n",
    "   \n",
    "    return pi_estimate\n",
    "\n",
    "NO_OF_ITERATIONS = 100000\n",
    "pi = monte_carlo_pi(NO_OF_ITERATIONS)\n",
    "print(f\"Pi après {NO_OF_ITERATIONS} itérations : {pi}\")\n",
    "\n",
    "%timeit monte_carlo_pi"
   ]
  },
  {
   "cell_type": "code",
   "execution_count": 15,
   "id": "d4fbe592",
   "metadata": {},
   "outputs": [
    {
     "ename": "SyntaxError",
     "evalue": "invalid syntax (2831318780.py, line 3)",
     "output_type": "error",
     "traceback": [
      "\u001b[1;36m  Cell \u001b[1;32mIn[15], line 3\u001b[1;36m\u001b[0m\n\u001b[1;33m    from libc.stdlib cimport rand\u001b[0m\n\u001b[1;37m                     ^\u001b[0m\n\u001b[1;31mSyntaxError\u001b[0m\u001b[1;31m:\u001b[0m invalid syntax\n"
     ]
    }
   ],
   "source": [
    "# Version cython\n",
    "import random\n",
    "from libc.stdlib cimport rand\n",
    "\n",
    "def monte_carlo_pi_cy(int NO_OF_ITERATIONS):\n",
    "    cdef int circle_points = 0\n",
    "    cdef int square_points = 0\n",
    "    cdef float d, x, y\n",
    "    cdef float pi_estimate\n",
    "    \n",
    "    for _ in range(NO_OF_ITERATIONS):\n",
    "        x = rand()\n",
    "        y = rand()\n",
    "        d = x**2 + y**2\n",
    "\n",
    "        if d <= 1:\n",
    "            circle_points += 1\n",
    "        square_points += 1\n",
    "    \n",
    "    pi_estimate = 4 * (circle_points / square_points)\n",
    "   \n",
    "    return pi_estimate\n",
    "\n",
    "NO_OF_ITERATIONS = 100000\n",
    "pi = monte_carlo_pi_cy(NO_OF_ITERATIONS)\n",
    "print(f\"Pi après {NO_OF_ITERATIONS} itérations : {pi}\")\n",
    "\n",
    "%timeit monte_carlo_pi_cy"
   ]
  },
  {
   "cell_type": "markdown",
   "id": "7cffad91",
   "metadata": {},
   "source": [
    "## Numba exercises"
   ]
  },
  {
   "cell_type": "markdown",
   "id": "5fb764ad",
   "metadata": {},
   "source": [
    "### Exercise 1\n",
    "\n",
    "Previously we considered how to approximateby Monte Carlo.\n",
    "\n",
    "- Use the same idea here, but make the code efficient using Numba.\n",
    "- Compare speed with and without Numba when the sample size is large."
   ]
  },
  {
   "cell_type": "code",
   "execution_count": null,
   "id": "3b3720c0",
   "metadata": {},
   "outputs": [],
   "source": [
    "import random\n",
    "import numba\n",
    "from numba import jit\n",
    "\n",
    "@jit\n",
    "def monte_carlo_pi_numba(NO_OF_ITERATIONS):\n",
    "    circle_points = 0\n",
    "    square_points = 0\n",
    "    \n",
    "    for _ in range(NO_OF_ITERATIONS):\n",
    "        x = random.uniform(0, 1)\n",
    "        y = random.uniform(0, 1)\n",
    "        d = x**2 + y**2\n",
    "\n",
    "        if d <= 1:\n",
    "            circle_points += 1\n",
    "        square_points += 1\n",
    "    \n",
    "    pi_estimate = 4 * (circle_points / square_points)\n",
    "   \n",
    "    return pi_estimate\n",
    "\n",
    "NO_OF_ITERATIONS = 100000\n",
    "pi = monte_carlo_pi_numba(NO_OF_ITERATIONS)\n",
    "print(f\"Pi après {NO_OF_ITERATIONS} itérations : {pi}\")\n",
    "\n",
    "%timeit monte_carlo_pi_numba"
   ]
  },
  {
   "cell_type": "code",
   "execution_count": 20,
   "id": "a6715f6d",
   "metadata": {},
   "outputs": [
    {
     "name": "stdout",
     "output_type": "stream",
     "text": [
      "Defaulting to user installation because normal site-packages is not writeable\n",
      "Requirement already satisfied: numba in c:\\programdata\\anaconda3\\lib\\site-packages (0.57.0)\n",
      "Requirement already satisfied: llvmlite<0.41,>=0.40.0dev0 in c:\\programdata\\anaconda3\\lib\\site-packages (from numba) (0.40.0)\n",
      "Requirement already satisfied: numpy<1.25,>=1.21 in c:\\programdata\\anaconda3\\lib\\site-packages (from numba) (1.24.3)\n",
      "Note: you may need to restart the kernel to use updated packages.\n"
     ]
    }
   ],
   "source": [
    "pip install numba"
   ]
  },
  {
   "cell_type": "markdown",
   "id": "08a72a33",
   "metadata": {},
   "source": [
    "### Exercise 2\n",
    "\n",
    "In the [Introduction to Quantitative Economics](https://python.quantecon.org/intro.html) with Python lecture series you can learn all about finite-state Markov chains.\n",
    "\n",
    "For now, let's just concentrate on simulating a very simple example of such a chain.\n",
    "\n",
    "Suppose that the volatility of returns on an asset can be in one of two regimes — high or low.\n",
    "\n",
    "The transition probabilities across states are as follows ![markov](../data/markov.png)\n",
    "\n",
    "For example, let the period length be one day, and suppose the current state is high.\n",
    "\n",
    "We see from the graph that the state tomorrow will be\n",
    "\n",
    "- high with probability 0.8\n",
    "\n",
    "- low with probability 0.2\n",
    "\n",
    "Your task is to simulate a sequence of daily volatility states according to this rule.\n",
    "\n",
    "Set the length of the sequence to `n = 1_000_000` and start in the high state.\n",
    "\n",
    "Implement a pure Python version and a Numba version, and compare speeds.\n",
    "\n",
    "To test your code, evaluate the fraction of time that the chain spends in the low state.\n",
    "\n",
    "If your code is correct, it should be about 2/3.\n",
    "\n",
    "Hints:\n",
    "\n",
    "- Represent the low state as 0 and the high state as 1.\n",
    "\n",
    "- If you want to store integers in a NumPy array and then apply JIT compilation, use `x = np.empty(n, dtype=np.int_)`.\n"
   ]
  }
 ],
 "metadata": {
  "hide_input": false,
  "kernelspec": {
   "display_name": "Python 3 (ipykernel)",
   "language": "python",
   "name": "python3"
  },
  "language_info": {
   "codemirror_mode": {
    "name": "ipython",
    "version": 3
   },
   "file_extension": ".py",
   "mimetype": "text/x-python",
   "name": "python",
   "nbconvert_exporter": "python",
   "pygments_lexer": "ipython3",
   "version": "3.11.5"
  }
 },
 "nbformat": 4,
 "nbformat_minor": 5
}
